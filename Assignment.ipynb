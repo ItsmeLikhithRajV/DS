{
 "cells": [
  {
   "cell_type": "markdown",
   "id": "6bd768dd-1d3c-4884-9f26-37f13164a129",
   "metadata": {},
   "source": [
    "Week 1 Assignment"
   ]
  },
  {
   "cell_type": "markdown",
   "id": "4cba2f75-4129-4286-94b2-bac28a542e2a",
   "metadata": {},
   "source": [
    "Question 1"
   ]
  },
  {
   "cell_type": "code",
   "execution_count": 1,
   "id": "666b61be-7943-4a51-9a6c-836f641f2e4b",
   "metadata": {},
   "outputs": [],
   "source": [
    "s='PWSkills' #Strings"
   ]
  },
  {
   "cell_type": "code",
   "execution_count": 2,
   "id": "bb24d662-88b2-490b-9f92-d7feb3be3518",
   "metadata": {},
   "outputs": [],
   "source": [
    "l=[29,'PWskills','o',12.01] #list"
   ]
  },
  {
   "cell_type": "code",
   "execution_count": 3,
   "id": "dc645c68-5675-4464-950a-2a2928653a92",
   "metadata": {},
   "outputs": [],
   "source": [
    "f=0.123 #float"
   ]
  },
  {
   "cell_type": "code",
   "execution_count": 4,
   "id": "3c928549-5342-4f4e-b071-1960d4374a34",
   "metadata": {},
   "outputs": [],
   "source": [
    "t=(29,'PWskills','o',12.01) #tuple"
   ]
  },
  {
   "cell_type": "markdown",
   "id": "b02b578b-a26d-4062-8fda-4802906eacc2",
   "metadata": {},
   "source": [
    "Question 2"
   ]
  },
  {
   "cell_type": "code",
   "execution_count": 9,
   "id": "79518eec-85f5-4c15-981e-8f62d4a10d41",
   "metadata": {},
   "outputs": [
    {
     "data": {
      "text/plain": [
       "str"
      ]
     },
     "execution_count": 9,
     "metadata": {},
     "output_type": "execute_result"
    }
   ],
   "source": [
    "var1=''    #Answer = String\n",
    "type(var1)"
   ]
  },
  {
   "cell_type": "code",
   "execution_count": 10,
   "id": "273756a4-8068-43c2-b431-923029664178",
   "metadata": {},
   "outputs": [
    {
     "data": {
      "text/plain": [
       "str"
      ]
     },
     "execution_count": 10,
     "metadata": {},
     "output_type": "execute_result"
    }
   ],
   "source": [
    "var2 = '[ DS , ML , Python]'    #Answer = String\n",
    "type(var2)"
   ]
  },
  {
   "cell_type": "code",
   "execution_count": 11,
   "id": "a1a5ce25-ae98-44ac-95d2-57b1dd2cf8b8",
   "metadata": {},
   "outputs": [
    {
     "data": {
      "text/plain": [
       "list"
      ]
     },
     "execution_count": 11,
     "metadata": {},
     "output_type": "execute_result"
    }
   ],
   "source": [
    "var3 = [ 'DS' , 'ML' , 'Python' ]    #Answer = List\n",
    "type(var3)"
   ]
  },
  {
   "cell_type": "code",
   "execution_count": 16,
   "id": "057c38fa-60e1-461c-834d-654284595bc1",
   "metadata": {},
   "outputs": [
    {
     "data": {
      "text/plain": [
       "float"
      ]
     },
     "execution_count": 16,
     "metadata": {},
     "output_type": "execute_result"
    }
   ],
   "source": [
    "var4 = 1.     #Answer = float\n",
    "type(var4)"
   ]
  },
  {
   "cell_type": "markdown",
   "id": "f6a5f969-f9c4-41aa-b7a2-3fde8e10093c",
   "metadata": {},
   "source": [
    "Question 3"
   ]
  },
  {
   "cell_type": "raw",
   "id": "eb9c5293-5487-48df-b10d-363b2daf0859",
   "metadata": {},
   "source": [
    "(i) / = Divison operator used to get the quotient in float form is a part of mathematical operator.\n",
    "(ii) % = Modulus operator used to get the remainder in integer form is a part of mathematical operator.\n",
    "(iii) // = Floor Division operator used to get the number of levels the division is made in integer form is a part of mathematical operator.\n",
    "(iv) ** = Exponential operator used to get the Power of exponent of two numbers is a part of mathematical operator."
   ]
  },
  {
   "cell_type": "markdown",
   "id": "05d21e1f-1fff-4a9e-bb23-3eb1fbf59e49",
   "metadata": {},
   "source": [
    "Question 4"
   ]
  },
  {
   "cell_type": "markdown",
   "id": "df9b8a6d-64f0-4e38-a91c-d05b4517cec0",
   "metadata": {},
   "source": [
    "Create a list of length 10 of your choice containing multiple types of data. Using for loop print the\n",
    "element and its data type."
   ]
  },
  {
   "cell_type": "code",
   "execution_count": 1,
   "id": "d11fc59d-2bc3-483d-8101-47f8e3d587ff",
   "metadata": {},
   "outputs": [],
   "source": [
    "li=[29,'PWskills','o',12.01,2003,'DS','ML','python',26.5562,20]"
   ]
  },
  {
   "cell_type": "code",
   "execution_count": 7,
   "id": "7eca62ff-116a-44f7-9eb2-ef3193073c7e",
   "metadata": {},
   "outputs": [
    {
     "name": "stdout",
     "output_type": "stream",
     "text": [
      "29  -  <class 'int'>\n",
      "PWskills  -  <class 'str'>\n",
      "o  -  <class 'str'>\n",
      "12.01  -  <class 'float'>\n",
      "2003  -  <class 'int'>\n",
      "DS  -  <class 'str'>\n",
      "ML  -  <class 'str'>\n",
      "python  -  <class 'str'>\n",
      "26.5562  -  <class 'float'>\n",
      "20  -  <class 'int'>\n"
     ]
    }
   ],
   "source": [
    "for i in li:\n",
    "    print(i,' - ',type(i))"
   ]
  },
  {
   "cell_type": "markdown",
   "id": "ea825dd7-c5ad-47d9-8917-d770e984dfee",
   "metadata": {},
   "source": [
    "Question 5"
   ]
  },
  {
   "cell_type": "markdown",
   "id": "2b23c453-e779-44ba-b672-c83a24eb50c4",
   "metadata": {},
   "source": [
    "Using a while loop, verify if the number A is purely divisible by number B and if so then how many\n",
    "times it can be divisible."
   ]
  },
  {
   "cell_type": "code",
   "execution_count": 12,
   "id": "06bf345d-4f93-4f26-a758-bc911a46bc3d",
   "metadata": {},
   "outputs": [
    {
     "name": "stdin",
     "output_type": "stream",
     "text": [
      "Enter a Number A:  126\n",
      "Enter a Number B:  2\n"
     ]
    },
    {
     "name": "stdout",
     "output_type": "stream",
     "text": [
      "126  is divisble by  2  in  63  times\n"
     ]
    }
   ],
   "source": [
    "a=int(input('Enter a Number A: '))\n",
    "b=int(input('Enter a Number B: '))\n",
    "if a%b==0:\n",
    "      print(a,' is divisble by ',b,' in ',a//b,' times')\n",
    "else:\n",
    "      print(a,' is not divisble by ',b)"
   ]
  },
  {
   "cell_type": "markdown",
   "id": "fb165cd6-34c5-4c3b-a839-aa851c747495",
   "metadata": {},
   "source": [
    "Question 6"
   ]
  },
  {
   "cell_type": "markdown",
   "id": "337a4b16-3c1b-4efa-aa2f-7b7e14ba8191",
   "metadata": {},
   "source": [
    "Create a list containing 25 int type data. Using for loop and if-else condition print if the element is\n",
    "divisible by 3 or not."
   ]
  },
  {
   "cell_type": "code",
   "execution_count": 16,
   "id": "9c031d8c-d0e2-4d7b-a653-07bd176acbea",
   "metadata": {},
   "outputs": [],
   "source": [
    "abc=[1,2,3,4,5,6,7,8,9,10,11,12,13,14,15,16,17,18,19,20,21,22,23,24,25]"
   ]
  },
  {
   "cell_type": "code",
   "execution_count": 17,
   "id": "4bfd37d8-fb6d-4251-abe2-90d8118ade43",
   "metadata": {},
   "outputs": [
    {
     "name": "stdout",
     "output_type": "stream",
     "text": [
      "1  is not divisble by 3\n",
      "2  is not divisble by 3\n",
      "3  is divisible by 3\n",
      "4  is not divisble by 3\n",
      "5  is not divisble by 3\n",
      "6  is divisible by 3\n",
      "7  is not divisble by 3\n",
      "8  is not divisble by 3\n",
      "9  is divisible by 3\n",
      "10  is not divisble by 3\n",
      "11  is not divisble by 3\n",
      "12  is divisible by 3\n",
      "13  is not divisble by 3\n",
      "14  is not divisble by 3\n",
      "15  is divisible by 3\n",
      "16  is not divisble by 3\n",
      "17  is not divisble by 3\n",
      "18  is divisible by 3\n",
      "19  is not divisble by 3\n",
      "20  is not divisble by 3\n",
      "21  is divisible by 3\n",
      "22  is not divisble by 3\n",
      "23  is not divisble by 3\n",
      "24  is divisible by 3\n",
      "25  is not divisble by 3\n"
     ]
    }
   ],
   "source": [
    "for i in abc:\n",
    "    if i%3==0:\n",
    "        print(i,' is divisible by 3')\n",
    "    else:\n",
    "        print(i,' is not divisble by 3')"
   ]
  },
  {
   "cell_type": "markdown",
   "id": "11e84922-689c-4225-ac80-0b3cafa94548",
   "metadata": {},
   "source": [
    "Question 7"
   ]
  },
  {
   "cell_type": "markdown",
   "id": "b5912107-e8e4-4fa7-b423-0d74cc056705",
   "metadata": {},
   "source": [
    "What do you understand about mutable and immutable data types? Give examples for both showing\n",
    "this property."
   ]
  },
  {
   "cell_type": "markdown",
   "id": "a44d5d34-d0b9-4fde-b6ac-1af536c257fb",
   "metadata": {},
   "source": [
    "&emsp;We can say that mutable data types means an object or a set which allows modification or changes<br>\n",
    "Example : Lists [0,1,'PWSkills','O']<br>\n",
    "&emsp;&emsp;We can say that immutable data types meand an object or a set which does not allows modification or changes<br>\n",
    "Example : Tuple (0,1,'PWSkills','O')<br>\n",
    "         &emsp; Strings a='PWSkills' #this is considered as list with unique indices for each character of string which cannot be replaced"
   ]
  }
 ],
 "metadata": {
  "kernelspec": {
   "display_name": "Python 3 (ipykernel)",
   "language": "python",
   "name": "python3"
  },
  "language_info": {
   "codemirror_mode": {
    "name": "ipython",
    "version": 3
   },
   "file_extension": ".py",
   "mimetype": "text/x-python",
   "name": "python",
   "nbconvert_exporter": "python",
   "pygments_lexer": "ipython3",
   "version": "3.10.8"
  }
 },
 "nbformat": 4,
 "nbformat_minor": 5
}
