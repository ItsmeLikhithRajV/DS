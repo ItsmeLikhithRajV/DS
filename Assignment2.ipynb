{
 "cells": [
  {
   "cell_type": "markdown",
   "id": "b347899d-7ac0-4405-9dfb-116fe6cd839d",
   "metadata": {},
   "source": [
    "Q1. How do you comment code in Python? What are the different types of comments?"
   ]
  },
  {
   "cell_type": "markdown",
   "id": "35a9216c-d149-438a-8876-afe51200abcb",
   "metadata": {},
   "source": [
    "&emsp; We comment code to know more about the context or content we have typed<br>\n",
    "there are 4 types of commenting:<br>\n",
    "1 # - for single line comments<br>\n",
    "2 '' - single quotes for single line comments<br>\n",
    "3 \"\"\" \"\"\" - triple quotes for multiline quotes<br>\n",
    "4 # - in every line for multiline comments<br>"
   ]
  },
  {
   "cell_type": "markdown",
   "id": "766780c0-8c66-41c0-ba1b-85d5847f6b3c",
   "metadata": {},
   "source": [
    "Q2. What are variables in Python? How do you declare and assign values to variables?"
   ]
  },
  {
   "cell_type": "markdown",
   "id": "9608c60e-b8a1-46ca-b278-d563195c75d1",
   "metadata": {},
   "source": [
    "&emsp; A variable is a name or a refernce to a object which takes the data type of the assigned value. The variable is declared with names either starting with alphabet or a underscore '-' followed by any character and the values are assigned t by the assignment operator \"=\". The variable name should not be either keywords or start with any characters except alphabet or underscore."
   ]
  },
  {
   "cell_type": "markdown",
   "id": "70b041da-d057-4449-a64d-16b767825b1c",
   "metadata": {},
   "source": [
    "Q3. How do you convert one data type to another in Python?"
   ]
  },
  {
   "cell_type": "markdown",
   "id": "de9b0168-41c7-4a65-95b0-98420090f793",
   "metadata": {},
   "source": [
    "&emsp;We can convert any data type from one form to another by just using the new data type with curly braces and inside the braces it contains arguments which are either the variable of other data type or the data itself \n",
    "example: given abc=123\n",
    "converting to string = str(abc)"
   ]
  },
  {
   "cell_type": "markdown",
   "id": "2861a952-4574-464b-a767-1eca9ab71656",
   "metadata": {},
   "source": [
    "Q4. How do you write and execute a Python script from the command line?"
   ]
  },
  {
   "cell_type": "markdown",
   "id": "d7e8eddc-3acd-4e37-a843-447aa47e5d90",
   "metadata": {},
   "source": [
    "&emsp;We can write and excute python scripy in command line in the following ways:<br>\n",
    "open any editor and write the script and save the file with the .py extention then open command line direct it to the folder using cd and then use \"python file_name.py\" and run to get the output "
   ]
  },
  {
   "cell_type": "markdown",
   "id": "9b730a69-34e6-4ff0-93bd-d90e1003fdb6",
   "metadata": {},
   "source": [
    "Q5. Given a list my_list = [1, 2, 3, 4, 5], write the code to slice the list and obtain the sub-list [2, 3]."
   ]
  },
  {
   "cell_type": "code",
   "execution_count": 2,
   "id": "cc85fc79-d3c9-407c-a0df-abac410270a4",
   "metadata": {},
   "outputs": [],
   "source": [
    "my_list = [1, 2, 3, 4, 5]"
   ]
  },
  {
   "cell_type": "code",
   "execution_count": 3,
   "id": "7e08744e-9a57-4a2e-b161-4e95d39826d2",
   "metadata": {},
   "outputs": [
    {
     "data": {
      "text/plain": [
       "[2, 3]"
      ]
     },
     "execution_count": 3,
     "metadata": {},
     "output_type": "execute_result"
    }
   ],
   "source": [
    "my_list[1:3]"
   ]
  },
  {
   "cell_type": "markdown",
   "id": "c61af8e8-4e97-4a15-834b-95d633569372",
   "metadata": {},
   "source": [
    "Q6. What is a complex number in mathematics, and how is it represented in Python?"
   ]
  },
  {
   "cell_type": "markdown",
   "id": "d8d03bc4-a477-4ee8-851a-ee0aa673eedf",
   "metadata": {},
   "source": [
    "&emsp; A complex number is a number which consists of 2 parts a real part and a imaginary part such as a + bj where a is real and b is imaginary<br>\n",
    "it is represented in the complex data type such as a=3+4j it should be in this format a real number followed by a + and another number appended by a \"j\" or \"J\""
   ]
  },
  {
   "cell_type": "markdown",
   "id": "3661e876-9996-4b30-b64e-f042551b9276",
   "metadata": {},
   "source": [
    "Q7. What is the correct way to declare a variable named age and assign the value 25 to it?"
   ]
  },
  {
   "cell_type": "markdown",
   "id": "794bd7a7-ec44-43a1-a2f0-4642cba9b3ed",
   "metadata": {},
   "source": [
    "&emsp;We can create any variable with a name starting with a alphabet or a underscore and followed by any characters except a keyword in thsi case variable is age and using assignment operator \"=\" we can assign 25<br>\n",
    "such as age=25 "
   ]
  },
  {
   "cell_type": "code",
   "execution_count": 4,
   "id": "b16e64d9-0132-4c08-9872-d8c753049c34",
   "metadata": {},
   "outputs": [],
   "source": [
    "age=25"
   ]
  },
  {
   "cell_type": "markdown",
   "id": "c1e17a5f-9563-427a-8f2a-f314ad8822a3",
   "metadata": {},
   "source": [
    "Q8. Declare a variable named price and assign the value 9.99 to it. What data type does this variable\n",
    "belong to?"
   ]
  },
  {
   "cell_type": "code",
   "execution_count": 7,
   "id": "b05d33d7-4176-4a69-b553-197d777f708a",
   "metadata": {},
   "outputs": [],
   "source": [
    "price=9.99     #answer = float"
   ]
  },
  {
   "cell_type": "code",
   "execution_count": 8,
   "id": "40a27557-0f05-496d-8c15-0a69d17cc4ee",
   "metadata": {},
   "outputs": [
    {
     "data": {
      "text/plain": [
       "float"
      ]
     },
     "execution_count": 8,
     "metadata": {},
     "output_type": "execute_result"
    }
   ],
   "source": [
    "type(price)"
   ]
  },
  {
   "cell_type": "markdown",
   "id": "75781dde-af33-439b-84f3-ad6778387ae8",
   "metadata": {},
   "source": [
    "Q9. Create a variable named name and assign your full name to it as a string. How would you print the\n",
    "value of this variable?"
   ]
  },
  {
   "cell_type": "code",
   "execution_count": 9,
   "id": "a45f6ae4-0185-4ac6-8c74-f2440511770a",
   "metadata": {},
   "outputs": [],
   "source": [
    "name=\"Likhith Raj V\""
   ]
  },
  {
   "cell_type": "code",
   "execution_count": 10,
   "id": "785eba63-9fef-46eb-847a-bd84d1bc98ca",
   "metadata": {},
   "outputs": [
    {
     "name": "stdout",
     "output_type": "stream",
     "text": [
      "Likhith Raj V\n"
     ]
    }
   ],
   "source": [
    "print(name)"
   ]
  },
  {
   "cell_type": "markdown",
   "id": "7b596730-b707-4f50-a901-ee1d5894c56e",
   "metadata": {},
   "source": [
    "Q10. Given the string \"Hello, World!\", extract the substring \"World\"."
   ]
  },
  {
   "cell_type": "code",
   "execution_count": 11,
   "id": "585bd54f-f361-42cb-9de9-e4ce10ac2aef",
   "metadata": {},
   "outputs": [],
   "source": [
    "a=\"Hello, World!\""
   ]
  },
  {
   "cell_type": "code",
   "execution_count": 22,
   "id": "37f0698c-960d-4565-991e-558dfe0fc501",
   "metadata": {},
   "outputs": [],
   "source": [
    "substring=a[7:12]\n",
    "#or\n",
    "sub=a[-6:-1]"
   ]
  },
  {
   "cell_type": "code",
   "execution_count": 23,
   "id": "6ef80bc0-d1e0-4758-bfc5-09cd0e153432",
   "metadata": {},
   "outputs": [
    {
     "name": "stdout",
     "output_type": "stream",
     "text": [
      "World or World\n"
     ]
    }
   ],
   "source": [
    "print(substring, \"or\", sub)"
   ]
  },
  {
   "cell_type": "markdown",
   "id": "4472fb83-f2ba-4809-bd8f-4e35f4b75e2f",
   "metadata": {},
   "source": [
    "Q11. Create a variable named \"is_student\" and assign it a boolean value indicating whether you are\n",
    "currently a student or not."
   ]
  },
  {
   "cell_type": "code",
   "execution_count": 24,
   "id": "3b5c2bb9-89bc-4670-993c-919e6891a179",
   "metadata": {},
   "outputs": [],
   "source": [
    "is_student=True"
   ]
  },
  {
   "cell_type": "code",
   "execution_count": 25,
   "id": "21cb5675-f144-4249-ae90-6fee303befed",
   "metadata": {},
   "outputs": [
    {
     "data": {
      "text/plain": [
       "True"
      ]
     },
     "execution_count": 25,
     "metadata": {},
     "output_type": "execute_result"
    }
   ],
   "source": [
    "is_student"
   ]
  }
 ],
 "metadata": {
  "kernelspec": {
   "display_name": "Python 3 (ipykernel)",
   "language": "python",
   "name": "python3"
  },
  "language_info": {
   "codemirror_mode": {
    "name": "ipython",
    "version": 3
   },
   "file_extension": ".py",
   "mimetype": "text/x-python",
   "name": "python",
   "nbconvert_exporter": "python",
   "pygments_lexer": "ipython3",
   "version": "3.10.8"
  }
 },
 "nbformat": 4,
 "nbformat_minor": 5
}
